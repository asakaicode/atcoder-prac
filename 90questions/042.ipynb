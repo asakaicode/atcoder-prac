{
 "cells": [
  {
   "cell_type": "markdown",
   "id": "be84e511-ae0b-4115-affb-2ad667083efe",
   "metadata": {},
   "source": [
    "https://github.com/E869120/kyopro_educational_90/blob/main/problem-txt/042.txt"
   ]
  },
  {
   "cell_type": "markdown",
   "id": "4965a327-9c87-4330-bd36-ecb8da91e986",
   "metadata": {},
   "source": [
    "非負整数 $N$ を $10$ 進法表記で表した時の各桁の数字の和を $f(N)$ とします。\n",
    "\n",
    "$0$ 以外の数字のみを使ってかける非負整数 $X$ のうち、以下の条件を満たすものが何通りあるかを求め、$10^9 + 7$ で割った余りを出力してください。\n",
    "- $X$ は $9$ の倍数である\n",
    "- $f(X) = K$\n",
    "\n",
    "\n",
    "【制約】\n",
    "- $1 \\le K \\le 100000$\n",
    "- $K$ は整数"
   ]
  },
  {
   "cell_type": "code",
   "execution_count": 12,
   "id": "f0798e3c-4573-4f10-bd3c-897d5076593b",
   "metadata": {},
   "outputs": [],
   "source": [
    "import math"
   ]
  },
  {
   "cell_type": "markdown",
   "id": "265af174-6dc6-4fe2-b164-487dcf597eee",
   "metadata": {},
   "source": [
    "- $k$ は適当に与えられるとのこと（というか、普通にtxtファイルとスライドで書いてあること違うじゃねえか...）"
   ]
  },
  {
   "cell_type": "code",
   "execution_count": 6,
   "id": "e93b49d0-71a6-4bb8-bf93-fde5d210e632",
   "metadata": {},
   "outputs": [
    {
     "name": "stdin",
     "output_type": "stream",
     "text": [
      " 9\n"
     ]
    }
   ],
   "source": [
    "K = int(input())"
   ]
  },
  {
   "cell_type": "markdown",
   "id": "81b6a596-fb2b-43e4-9e1c-e8baf149102e",
   "metadata": {},
   "source": [
    "まず鍵になるのが、 `f(X)` の計算部分であるが、各桁を取り出すことは桁数に依存しているので、これは $\\mathcal{O}(N)$ で計算できる。関数を作っておく。"
   ]
  },
  {
   "cell_type": "code",
   "execution_count": 32,
   "id": "58419f79-d594-4e98-b69b-6906646266d9",
   "metadata": {},
   "outputs": [],
   "source": [
    "# O(N)で計算できる\n",
    "def sum_of_the_digits(X: int) -> int:\n",
    "    num_of_digits = len(list(str(X)))\n",
    "\n",
    "    summation = 0\n",
    "    remainder = X / (10 ** (num_of_digits))\n",
    "\n",
    "    for i in reversed(range(num_of_digits)):\n",
    "        remainder *= 10  # 桁を1つあげて、対象の桁を整数部分に持っていく\n",
    "        digit = math.floor(remainder)\n",
    "        summation += digit\n",
    "        remainder -= digit\n",
    "\n",
    "    return summation"
   ]
  },
  {
   "cell_type": "code",
   "execution_count": 33,
   "id": "5446f169-5aa9-4eb1-ac81-b72f873f31df",
   "metadata": {},
   "outputs": [
    {
     "name": "stdin",
     "output_type": "stream",
     "text": [
      " 117\n"
     ]
    },
    {
     "name": "stdout",
     "output_type": "stream",
     "text": [
      "9\n",
      "条件クリア\n",
      "10^9+7で割った余りは、 117\n"
     ]
    }
   ],
   "source": [
    "# 判定ロジックを作る\n",
    "X = int(input())\n",
    "\n",
    "summation = sum_of_the_digits(X)\n",
    "\n",
    "print(summation)\n",
    "\n",
    "if summation % 9 == 0 and summation == K:\n",
    "    print(\"条件クリア\")\n",
    "else:\n",
    "    print(\"失敗\")\n",
    "\n",
    "print(\"10^9+7で割った余りは、\", X % (10**9+7))"
   ]
  },
  {
   "cell_type": "code",
   "execution_count": null,
   "id": "7bd0ff40-1a2d-40b3-b7f1-62587d926c9a",
   "metadata": {},
   "outputs": [],
   "source": []
  }
 ],
 "metadata": {
  "kernelspec": {
   "display_name": "Python 3 (ipykernel)",
   "language": "python",
   "name": "python3"
  },
  "language_info": {
   "codemirror_mode": {
    "name": "ipython",
    "version": 3
   },
   "file_extension": ".py",
   "mimetype": "text/x-python",
   "name": "python",
   "nbconvert_exporter": "python",
   "pygments_lexer": "ipython3",
   "version": "3.11.2"
  }
 },
 "nbformat": 4,
 "nbformat_minor": 5
}
