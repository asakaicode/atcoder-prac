{
 "cells": [
  {
   "cell_type": "markdown",
   "id": "6da7c6ba-bf03-42d0-849f-152d9ac1675e",
   "metadata": {},
   "source": [
    "- https://atcoder.jp/contests/abc390/tasks"
   ]
  },
  {
   "cell_type": "markdown",
   "id": "3ba6ecdb-49a5-4a37-94df-c6063607838b",
   "metadata": {},
   "source": [
    "# A"
   ]
  },
  {
   "cell_type": "code",
   "execution_count": 32,
   "id": "b3464397-2f6a-4c97-8e42-3d166601c25a",
   "metadata": {},
   "outputs": [
    {
     "name": "stdin",
     "output_type": "stream",
     "text": [
      " 2 1 3 4 5\n"
     ]
    }
   ],
   "source": [
    "A = list(map(int, input().split(\" \")))"
   ]
  },
  {
   "cell_type": "code",
   "execution_count": 33,
   "id": "a8454348-239f-4094-b334-4870caa59d2f",
   "metadata": {},
   "outputs": [
    {
     "data": {
      "text/plain": [
       "[2, 1, 3, 4, 5]"
      ]
     },
     "execution_count": 33,
     "metadata": {},
     "output_type": "execute_result"
    }
   ],
   "source": [
    "A"
   ]
  },
  {
   "cell_type": "code",
   "execution_count": 34,
   "id": "9f8eccaa-5c6c-4394-a6f8-b2b8fe6916a1",
   "metadata": {},
   "outputs": [
    {
     "name": "stdout",
     "output_type": "stream",
     "text": [
      "Yes\n",
      "No\n"
     ]
    }
   ],
   "source": [
    "for i in range(len(A) - 1):\n",
    "    B = A.copy()\n",
    "\n",
    "    B[i], B[i+1] = B[i+1], B[i]\n",
    "    if B == [1, 2, 3, 4, 5]:\n",
    "        print(\"Yes\")\n",
    "        exit()\n",
    "\n",
    "print(\"No\")"
   ]
  },
  {
   "cell_type": "markdown",
   "id": "a90b3bfb-a31b-4dcd-8e11-30914feeb833",
   "metadata": {},
   "source": [
    "# B"
   ]
  },
  {
   "cell_type": "markdown",
   "id": "ae5f8d12-dcde-440b-828c-6666b5606ce4",
   "metadata": {},
   "source": [
    "## B-1. ACにはならない例\n",
    "大きな値になる時には、A[1]/A[0]の部分が正しくなく誤差が出てしまう。ゆえ、以下のような等比数列の公式では、公比 $r$ の部分で誤差が出てしまうことに注意する。\n",
    "\n",
    "$$\n",
    "a_{n} = a_{0} \\cdot r^{n-1}\n",
    "$$"
   ]
  },
  {
   "cell_type": "code",
   "execution_count": 2,
   "id": "d115f3b2-ff43-4fad-be8d-ae4d033a5b7b",
   "metadata": {},
   "outputs": [
    {
     "name": "stdin",
     "output_type": "stream",
     "text": [
      " 3\n",
      " 67114656 67114657 67114658\n"
     ]
    },
    {
     "name": "stdout",
     "output_type": "stream",
     "text": [
      "Yes\n"
     ]
    }
   ],
   "source": [
    "N = int(input())\n",
    "A = list(map(int, input().split(\" \")))\n",
    "\n",
    "# 最初に等比数列の式を作成して、そこから単純なforループにて、O(N)で判定してしまう\n",
    "## 公比計算する際に、ZeroDivisionErrorを回避するための条件をつける\n",
    "if A[0] == 0:\n",
    "    print(\"No\")\n",
    "    exit()\n",
    "\n",
    "## 等比数列の一般項(indexが0から始まることに注意する)\n",
    "def expected_general_sequence_int_value(A, n):\n",
    "    return int(A[0] * ((A[1] / A[0]) ** (n)))\n",
    "\n",
    "for i in range(N):\n",
    "    if A[i] != expected_general_sequence_int_value(A, i):\n",
    "        print(\"No\")\n",
    "        exit()\n",
    "\n",
    "print(\"Yes\")"
   ]
  },
  {
   "cell_type": "markdown",
   "id": "17e36550-68f3-4abc-b4c4-d6c5c469488c",
   "metadata": {},
   "source": [
    "以下のような式変形で考えればよさそう(連続する3つの数a, b, cが等比数列の場合の判定法)\n",
    "\n",
    "$$\n",
    "b^{2} = ac\n",
    "$$"
   ]
  },
  {
   "cell_type": "code",
   "execution_count": 4,
   "id": "c327859a-5285-4bf9-a059-97ef0ffdde91",
   "metadata": {},
   "outputs": [
    {
     "name": "stdin",
     "output_type": "stream",
     "text": [
      " 3\n",
      " 67114656 67114657 67114658\n"
     ]
    },
    {
     "name": "stdout",
     "output_type": "stream",
     "text": [
      "No\n",
      "Yes\n"
     ]
    }
   ],
   "source": [
    "# 掛け算でチェックする\n",
    "N = int(input())\n",
    "A = list(map(int, input().split(\" \")))\n",
    "\n",
    "## 1回のループで3つの項にまたがるので、indexがオーバーしないように-2をする\n",
    "\n",
    "for i in range(N-2):\n",
    "    if A[i+1]**2 != A[i]*A[i+2]:\n",
    "        print(\"No\")\n",
    "        exit()\n",
    "\n",
    "print(\"Yes\")"
   ]
  },
  {
   "cell_type": "markdown",
   "id": "7f454caa-27ca-4ef3-b6e0-1029ef9470a4",
   "metadata": {},
   "source": [
    "# C"
   ]
  },
  {
   "cell_type": "markdown",
   "id": "4dfbef59-b14c-4331-9549-78665189e52e",
   "metadata": {},
   "source": [
    "## C-1. 思考ノート\n",
    "\n",
    "- まずは#の位置 $(i, j)$ のそれぞれ $i$, $j$ の最大値・最小値を考え、その状態から塗りつぶしで長方形ができるか判定すればよさそう\n",
    "- `.` の位置を考慮して、長方形ができない方を最初に考えれば近道っぽい？\n",
    "  - 長方形ができそうな領域部分の内部に `.` があってしまうともう長方形は作成できない"
   ]
  },
  {
   "cell_type": "code",
   "execution_count": 2,
   "id": "150d5e17-27b3-415e-bf84-610c4c8449e4",
   "metadata": {},
   "outputs": [
    {
     "name": "stdin",
     "output_type": "stream",
     "text": [
      " \n"
     ]
    },
    {
     "ename": "ValueError",
     "evalue": "invalid literal for int() with base 10: ''",
     "output_type": "error",
     "traceback": [
      "\u001b[0;31m---------------------------------------------------------------------------\u001b[0m",
      "\u001b[0;31mValueError\u001b[0m                                Traceback (most recent call last)",
      "Cell \u001b[0;32mIn[2], line 2\u001b[0m\n\u001b[1;32m      1\u001b[0m \u001b[38;5;66;03m# まずは荒っぽい判定（あまり ? を考慮しない）\u001b[39;00m\n\u001b[0;32m----> 2\u001b[0m H, W \u001b[38;5;241m=\u001b[39m \u001b[38;5;28;43mlist\u001b[39;49m\u001b[43m(\u001b[49m\u001b[38;5;28;43mmap\u001b[39;49m\u001b[43m(\u001b[49m\u001b[38;5;28;43mint\u001b[39;49m\u001b[43m,\u001b[49m\u001b[43m \u001b[49m\u001b[38;5;28;43minput\u001b[39;49m\u001b[43m(\u001b[49m\u001b[43m)\u001b[49m\u001b[38;5;241;43m.\u001b[39;49m\u001b[43msplit\u001b[49m\u001b[43m(\u001b[49m\u001b[38;5;124;43m\"\u001b[39;49m\u001b[38;5;124;43m \u001b[39;49m\u001b[38;5;124;43m\"\u001b[39;49m\u001b[43m)\u001b[49m\u001b[43m)\u001b[49m\u001b[43m)\u001b[49m\n\u001b[1;32m      3\u001b[0m S \u001b[38;5;241m=\u001b[39m []\n\u001b[1;32m      4\u001b[0m \u001b[38;5;28;01mfor\u001b[39;00m i \u001b[38;5;129;01min\u001b[39;00m \u001b[38;5;28mrange\u001b[39m(H):\n",
      "\u001b[0;31mValueError\u001b[0m: invalid literal for int() with base 10: ''"
     ]
    }
   ],
   "source": [
    "# まずは荒っぽい判定（あまり ? を考慮しない）\n",
    "H, W = list(map(int, input().split(\" \")))\n",
    "S = []\n",
    "min_black_i = -1\n",
    "max_black_i = -1\n",
    "min_black_j = -1\n",
    "max_black_j = -1\n",
    "\n",
    "for i in range(H):\n",
    "    S[i] = list(input())\n",
    "\n",
    "## まずは縁取り\n",
    "for i in rainge(len(S)):\n",
    "    a = [i for i, x in enumerate(S[i]) if x == \"#\"]\n",
    "\n",
    "    if len(a) > 0:\n",
    "        if min_black_i == -1:\n",
    "            min_black_i = i\n",
    "        else:\n",
    "            max_black_i = i"
   ]
  },
  {
   "cell_type": "code",
   "execution_count": null,
   "id": "37598cc8-0c96-4f45-bb0f-4ba6f9059748",
   "metadata": {},
   "outputs": [],
   "source": []
  }
 ],
 "metadata": {
  "kernelspec": {
   "display_name": "Python 3 (ipykernel)",
   "language": "python",
   "name": "python3"
  },
  "language_info": {
   "codemirror_mode": {
    "name": "ipython",
    "version": 3
   },
   "file_extension": ".py",
   "mimetype": "text/x-python",
   "name": "python",
   "nbconvert_exporter": "python",
   "pygments_lexer": "ipython3",
   "version": "3.9.12"
  }
 },
 "nbformat": 4,
 "nbformat_minor": 5
}
